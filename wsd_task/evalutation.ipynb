{
 "cells": [
  {
   "cell_type": "markdown",
   "metadata": {},
   "source": [
    "# WSD Based on Wiktionary Data and Contextual Embeddings - Evaluation\n",
    "Author: Matilda Schauf"
   ]
  },
  {
   "cell_type": "markdown",
   "metadata": {},
   "source": [
    "\n",
    "## Import Modules"
   ]
  },
  {
   "cell_type": "code",
   "execution_count": 1,
   "metadata": {},
   "outputs": [],
   "source": [
    "from calc_embeds import *\n",
    "from wsd_eval import *\n",
    "import pandas as pd\n",
    "import json"
   ]
  },
  {
   "cell_type": "markdown",
   "metadata": {},
   "source": [
    "## Load Best Senses Dicts\n",
    "key = sentence number (`int`); \n",
    "\n",
    "value = `dict` with [key = word (`str`); value = best word sense for the word (`int`)]"
   ]
  },
  {
   "cell_type": "code",
   "execution_count": 2,
   "metadata": {},
   "outputs": [],
   "source": [
    "# type 1: WSD results with WS method\n",
    "bestwsdict_path = \"../data/best_senses_dict.json\"\n",
    "with open(bestwsdict_path) as d:\n",
    "    best_senses_dict = json.load(d)\n",
    "\n",
    "# type 2: WSD results with DEF method\n",
    "bestdefsendict_path = \"../data/best_defsen_dict.json\"\n",
    "with open(bestdefsendict_path) as d2:\n",
    "    best_defsen_dict = json.load(d2)\n",
    "\n",
    "# type 3: WSD results with EX method\n",
    "bestexsendict_path = \"../data/best_exsen_dict.json\"\n",
    "with open(bestexsendict_path) as d3:\n",
    "    best_exsen_dict = json.load(d3)"
   ]
  },
  {
   "cell_type": "code",
   "execution_count": 3,
   "metadata": {},
   "outputs": [],
   "source": [
    "tsv_path = \"../data/2_JuergBirnstiel_Kolosser_4_5_6_20010819.tsv\""
   ]
  },
  {
   "cell_type": "code",
   "execution_count": 4,
   "metadata": {},
   "outputs": [
    {
     "name": "stderr",
     "output_type": "stream",
     "text": [
      "c:\\Users\\matif\\anaconda3\\envs\\BA_thesis\\lib\\site-packages\\torch\\autocast_mode.py:162: UserWarning: User provided device_type of 'cuda', but CUDA is not available. Disabling\n",
      "  warnings.warn('User provided device_type of \\'cuda\\', but CUDA is not available. Disabling')\n",
      "c:\\Users\\matif\\BA\\wsd_task\\wsd_eval.py:32: UserWarning: This pattern is interpreted as a regular expression, and has match groups. To actually get the groups, use str.extract.\n",
      "  df.tok[~df.pos.str.contains(r\"((NOUN)|(PROPN))\")] = df.tok.str.lower()[~df.pos.str.contains(r\"((NOUN)|(PROPN))\")]\n",
      "c:\\Users\\matif\\BA\\wsd_task\\wsd_eval.py:32: SettingWithCopyWarning: \n",
      "A value is trying to be set on a copy of a slice from a DataFrame\n",
      "\n",
      "See the caveats in the documentation: https://pandas.pydata.org/pandas-docs/stable/user_guide/indexing.html#returning-a-view-versus-a-copy\n",
      "  df.tok[~df.pos.str.contains(r\"((NOUN)|(PROPN))\")] = df.tok.str.lower()[~df.pos.str.contains(r\"((NOUN)|(PROPN))\")]\n",
      "c:\\Users\\matif\\BA\\wsd_task\\wsd_eval.py:33: UserWarning: This pattern is interpreted as a regular expression, and has match groups. To actually get the groups, use str.extract.\n",
      "  df.tok[df.pos.str.contains(r\"((NOUN)|(PROPN))\")] = df.tok.str.capitalize()[df.pos.str.contains(r\"((NOUN)|(PROPN))\")]\n",
      "c:\\Users\\matif\\BA\\wsd_task\\wsd_eval.py:33: SettingWithCopyWarning: \n",
      "A value is trying to be set on a copy of a slice from a DataFrame\n",
      "\n",
      "See the caveats in the documentation: https://pandas.pydata.org/pandas-docs/stable/user_guide/indexing.html#returning-a-view-versus-a-copy\n",
      "  df.tok[df.pos.str.contains(r\"((NOUN)|(PROPN))\")] = df.tok.str.capitalize()[df.pos.str.contains(r\"((NOUN)|(PROPN))\")]\n",
      "c:\\Users\\matif\\anaconda3\\envs\\BA_thesis\\lib\\site-packages\\torch\\autocast_mode.py:162: UserWarning: User provided device_type of 'cuda', but CUDA is not available. Disabling\n",
      "  warnings.warn('User provided device_type of \\'cuda\\', but CUDA is not available. Disabling')\n"
     ]
    }
   ],
   "source": [
    "df = make_eval_dataframe(tsv_path)"
   ]
  },
  {
   "cell_type": "code",
   "execution_count": 5,
   "metadata": {},
   "outputs": [
    {
     "data": {
      "text/html": [
       "<div>\n",
       "<style scoped>\n",
       "    .dataframe tbody tr th:only-of-type {\n",
       "        vertical-align: middle;\n",
       "    }\n",
       "\n",
       "    .dataframe tbody tr th {\n",
       "        vertical-align: top;\n",
       "    }\n",
       "\n",
       "    .dataframe thead th {\n",
       "        text-align: right;\n",
       "    }\n",
       "</style>\n",
       "<table border=\"1\" class=\"dataframe\">\n",
       "  <thead>\n",
       "    <tr style=\"text-align: right;\">\n",
       "      <th></th>\n",
       "      <th>sent_id</th>\n",
       "      <th>tok_id</th>\n",
       "      <th>tok</th>\n",
       "      <th>lemma</th>\n",
       "      <th>pos</th>\n",
       "      <th>ws_num</th>\n",
       "      <th>add_ws</th>\n",
       "      <th>met</th>\n",
       "      <th>vptk_lemma</th>\n",
       "      <th>comment</th>\n",
       "    </tr>\n",
       "  </thead>\n",
       "  <tbody>\n",
       "    <tr>\n",
       "      <th>1</th>\n",
       "      <td>1</td>\n",
       "      <td>2</td>\n",
       "      <td>recht</td>\n",
       "      <td>recht</td>\n",
       "      <td>ADV</td>\n",
       "      <td>2</td>\n",
       "      <td>*</td>\n",
       "      <td>false</td>\n",
       "      <td>*</td>\n",
       "      <td>*</td>\n",
       "    </tr>\n",
       "    <tr>\n",
       "      <th>2</th>\n",
       "      <td>1</td>\n",
       "      <td>3</td>\n",
       "      <td>freundlich</td>\n",
       "      <td>freundlich</td>\n",
       "      <td>ADV</td>\n",
       "      <td>1</td>\n",
       "      <td>*</td>\n",
       "      <td>false</td>\n",
       "      <td>*</td>\n",
       "      <td>*</td>\n",
       "    </tr>\n",
       "    <tr>\n",
       "      <th>13</th>\n",
       "      <td>2</td>\n",
       "      <td>10</td>\n",
       "      <td>Gliederung</td>\n",
       "      <td>Gliederung</td>\n",
       "      <td>NOUN</td>\n",
       "      <td>1</td>\n",
       "      <td>*</td>\n",
       "      <td>false</td>\n",
       "      <td>*</td>\n",
       "      <td>*</td>\n",
       "    </tr>\n",
       "    <tr>\n",
       "      <th>20</th>\n",
       "      <td>4</td>\n",
       "      <td>1</td>\n",
       "      <td>Anwendung</td>\n",
       "      <td>Anwendung</td>\n",
       "      <td>NOUN</td>\n",
       "      <td>2</td>\n",
       "      <td>*</td>\n",
       "      <td>false</td>\n",
       "      <td>*</td>\n",
       "      <td>*</td>\n",
       "    </tr>\n",
       "    <tr>\n",
       "      <th>24</th>\n",
       "      <td>5</td>\n",
       "      <td>2</td>\n",
       "      <td>verständlich</td>\n",
       "      <td>verständlich</td>\n",
       "      <td>ADV</td>\n",
       "      <td>1</td>\n",
       "      <td>*</td>\n",
       "      <td>false</td>\n",
       "      <td>*</td>\n",
       "      <td>*</td>\n",
       "    </tr>\n",
       "    <tr>\n",
       "      <th>...</th>\n",
       "      <td>...</td>\n",
       "      <td>...</td>\n",
       "      <td>...</td>\n",
       "      <td>...</td>\n",
       "      <td>...</td>\n",
       "      <td>...</td>\n",
       "      <td>...</td>\n",
       "      <td>...</td>\n",
       "      <td>...</td>\n",
       "      <td>...</td>\n",
       "    </tr>\n",
       "    <tr>\n",
       "      <th>1675</th>\n",
       "      <td>111</td>\n",
       "      <td>13</td>\n",
       "      <td>sehen</td>\n",
       "      <td>sehen</td>\n",
       "      <td>VERB</td>\n",
       "      <td>2</td>\n",
       "      <td>*</td>\n",
       "      <td>true</td>\n",
       "      <td>*</td>\n",
       "      <td>*</td>\n",
       "    </tr>\n",
       "    <tr>\n",
       "      <th>1681</th>\n",
       "      <td>111</td>\n",
       "      <td>19</td>\n",
       "      <td>Leben</td>\n",
       "      <td>Leben</td>\n",
       "      <td>NOUN</td>\n",
       "      <td>2</td>\n",
       "      <td>*</td>\n",
       "      <td>false</td>\n",
       "      <td>*</td>\n",
       "      <td>*</td>\n",
       "    </tr>\n",
       "    <tr>\n",
       "      <th>1684</th>\n",
       "      <td>111</td>\n",
       "      <td>22</td>\n",
       "      <td>Verbindung</td>\n",
       "      <td>Verbindung</td>\n",
       "      <td>NOUN</td>\n",
       "      <td>3</td>\n",
       "      <td>*</td>\n",
       "      <td>false</td>\n",
       "      <td>*</td>\n",
       "      <td>*</td>\n",
       "    </tr>\n",
       "    <tr>\n",
       "      <th>1686</th>\n",
       "      <td>111</td>\n",
       "      <td>24</td>\n",
       "      <td>Christus</td>\n",
       "      <td>Christus</td>\n",
       "      <td>PROPN</td>\n",
       "      <td>2</td>\n",
       "      <td>*</td>\n",
       "      <td>false</td>\n",
       "      <td>*</td>\n",
       "      <td>*</td>\n",
       "    </tr>\n",
       "    <tr>\n",
       "      <th>1687</th>\n",
       "      <td>111</td>\n",
       "      <td>25</td>\n",
       "      <td>führt</td>\n",
       "      <td>führen</td>\n",
       "      <td>VERB</td>\n",
       "      <td>1</td>\n",
       "      <td>*</td>\n",
       "      <td>false</td>\n",
       "      <td>*</td>\n",
       "      <td>*</td>\n",
       "    </tr>\n",
       "  </tbody>\n",
       "</table>\n",
       "<p>508 rows × 10 columns</p>\n",
       "</div>"
      ],
      "text/plain": [
       "      sent_id tok_id           tok         lemma    pos  ws_num add_ws    met  \\\n",
       "1           1      2         recht         recht    ADV       2      *  false   \n",
       "2           1      3    freundlich    freundlich    ADV       1      *  false   \n",
       "13          2     10    Gliederung    Gliederung   NOUN       1      *  false   \n",
       "20          4      1     Anwendung     Anwendung   NOUN       2      *  false   \n",
       "24          5      2  verständlich  verständlich    ADV       1      *  false   \n",
       "...       ...    ...           ...           ...    ...     ...    ...    ...   \n",
       "1675      111     13         sehen         sehen   VERB       2      *   true   \n",
       "1681      111     19         Leben         Leben   NOUN       2      *  false   \n",
       "1684      111     22    Verbindung    Verbindung   NOUN       3      *  false   \n",
       "1686      111     24      Christus      Christus  PROPN       2      *  false   \n",
       "1687      111     25         führt        führen   VERB       1      *  false   \n",
       "\n",
       "     vptk_lemma comment  \n",
       "1             *       *  \n",
       "2             *       *  \n",
       "13            *       *  \n",
       "20            *       *  \n",
       "24            *       *  \n",
       "...         ...     ...  \n",
       "1675          *       *  \n",
       "1681          *       *  \n",
       "1684          *       *  \n",
       "1686          *       *  \n",
       "1687          *       *  \n",
       "\n",
       "[508 rows x 10 columns]"
      ]
     },
     "execution_count": 5,
     "metadata": {},
     "output_type": "execute_result"
    }
   ],
   "source": [
    "df"
   ]
  },
  {
   "cell_type": "markdown",
   "metadata": {},
   "source": [
    "## Results"
   ]
  },
  {
   "cell_type": "markdown",
   "metadata": {},
   "source": [
    "Make gold standard dict and calculate accuracies."
   ]
  },
  {
   "cell_type": "code",
   "execution_count": 6,
   "metadata": {},
   "outputs": [
    {
     "name": "stderr",
     "output_type": "stream",
     "text": [
      "c:\\Users\\matif\\BA\\wsd_task\\wsd_eval.py:57: UserWarning: This pattern is interpreted as a regular expression, and has match groups. To actually get the groups, use str.extract.\n",
      "  df = df[df.pos.str.contains(\"(NOUN|PROPN|ADJ|ADV|VERB)\")]\n"
     ]
    }
   ],
   "source": [
    "gold_standard_dict, more_senses = make_gold_standard_dicts(df)"
   ]
  },
  {
   "cell_type": "code",
   "execution_count": 7,
   "metadata": {},
   "outputs": [],
   "source": [
    "# WORD SENSE vectors\n",
    "same_ws, diff_ws, good_ws, total = evaluate(gold_standard_dict, more_senses, best_senses_dict)\n",
    "# DEFINITION vectors\n",
    "same_ws_def, diff_ws_def, good_ws_def, total_def = evaluate(gold_standard_dict, more_senses, best_defsen_dict)\n",
    "# EXAMPLE vectors\n",
    "same_ws_ex, diff_ws_ex, good_ws_ex, total_ex = evaluate(gold_standard_dict, more_senses, best_exsen_dict)\n",
    "# MFS BASELINE\n",
    "same_ws_mfs, diff_ws_mfs, good_ws_mfs, total_mfs = mfs_evaluate(gold_standard_dict, more_senses)"
   ]
  },
  {
   "cell_type": "code",
   "execution_count": 8,
   "metadata": {},
   "outputs": [],
   "source": [
    "columns = [\"type\", \"same\", \"diff\", \"good\", \"total\", \"accuracy\", \"accuracy (+good)\"]\n",
    "results = [[\"WS\", same_ws, diff_ws, good_ws, total, same_ws/total, (same_ws+good_ws)/total],\n",
    "           [\"DEF\", same_ws_def, diff_ws_def, good_ws_def, total_def, same_ws_def/total_def, (same_ws_def+good_ws_def)/total_def],\n",
    "           [\"EX\", same_ws_ex, diff_ws_ex, good_ws_ex, total_ex, same_ws_ex/total_ex, (same_ws_ex+good_ws_ex)/total_ex],\n",
    "           [\"MFS\", same_ws_mfs, diff_ws_mfs, good_ws_mfs, total_mfs, same_ws_mfs/total_mfs, (same_ws_mfs+good_ws_mfs)/total_mfs]]\n",
    "index = [\"WS\", \"DEF\", \"EX\", \"MFS\"]\n",
    "result_df = pd.DataFrame(results, columns=columns, index=index)"
   ]
  },
  {
   "cell_type": "code",
   "execution_count": 9,
   "metadata": {},
   "outputs": [
    {
     "data": {
      "text/html": [
       "<div>\n",
       "<style scoped>\n",
       "    .dataframe tbody tr th:only-of-type {\n",
       "        vertical-align: middle;\n",
       "    }\n",
       "\n",
       "    .dataframe tbody tr th {\n",
       "        vertical-align: top;\n",
       "    }\n",
       "\n",
       "    .dataframe thead th {\n",
       "        text-align: right;\n",
       "    }\n",
       "</style>\n",
       "<table border=\"1\" class=\"dataframe\">\n",
       "  <thead>\n",
       "    <tr style=\"text-align: right;\">\n",
       "      <th></th>\n",
       "      <th>type</th>\n",
       "      <th>same</th>\n",
       "      <th>diff</th>\n",
       "      <th>good</th>\n",
       "      <th>total</th>\n",
       "      <th>accuracy</th>\n",
       "      <th>accuracy (+good)</th>\n",
       "    </tr>\n",
       "  </thead>\n",
       "  <tbody>\n",
       "    <tr>\n",
       "      <th>WS</th>\n",
       "      <td>WS</td>\n",
       "      <td>167</td>\n",
       "      <td>201</td>\n",
       "      <td>7</td>\n",
       "      <td>375</td>\n",
       "      <td>0.445333</td>\n",
       "      <td>0.464000</td>\n",
       "    </tr>\n",
       "    <tr>\n",
       "      <th>DEF</th>\n",
       "      <td>DEF</td>\n",
       "      <td>115</td>\n",
       "      <td>256</td>\n",
       "      <td>4</td>\n",
       "      <td>375</td>\n",
       "      <td>0.306667</td>\n",
       "      <td>0.317333</td>\n",
       "    </tr>\n",
       "    <tr>\n",
       "      <th>EX</th>\n",
       "      <td>EX</td>\n",
       "      <td>183</td>\n",
       "      <td>184</td>\n",
       "      <td>8</td>\n",
       "      <td>375</td>\n",
       "      <td>0.488000</td>\n",
       "      <td>0.509333</td>\n",
       "    </tr>\n",
       "    <tr>\n",
       "      <th>MFS</th>\n",
       "      <td>MFS</td>\n",
       "      <td>243</td>\n",
       "      <td>145</td>\n",
       "      <td>9</td>\n",
       "      <td>397</td>\n",
       "      <td>0.612091</td>\n",
       "      <td>0.634761</td>\n",
       "    </tr>\n",
       "  </tbody>\n",
       "</table>\n",
       "</div>"
      ],
      "text/plain": [
       "    type  same  diff  good  total  accuracy  accuracy (+good)\n",
       "WS    WS   167   201     7    375  0.445333          0.464000\n",
       "DEF  DEF   115   256     4    375  0.306667          0.317333\n",
       "EX    EX   183   184     8    375  0.488000          0.509333\n",
       "MFS  MFS   243   145     9    397  0.612091          0.634761"
      ]
     },
     "execution_count": 9,
     "metadata": {},
     "output_type": "execute_result"
    }
   ],
   "source": [
    "result_df"
   ]
  },
  {
   "cell_type": "code",
   "execution_count": 10,
   "metadata": {},
   "outputs": [
    {
     "data": {
      "text/plain": [
       "<AxesSubplot:>"
      ]
     },
     "execution_count": 10,
     "metadata": {},
     "output_type": "execute_result"
    },
    {
     "data": {
      "image/png": "[encoded data removed]",
      "text/plain": [
       "<Figure size 432x288 with 1 Axes>"
      ]
     },
     "metadata": {
      "needs_background": "light"
     },
     "output_type": "display_data"
    }
   ],
   "source": [
    "result_df[[\"accuracy\", \"accuracy (+good)\"]].plot.bar(rot=0)"
   ]
  },
  {
   "cell_type": "markdown",
   "metadata": {},
   "source": [
    "## Modify Data Frame\n",
    "Add columns with the results of the WS, DEF, and EX method."
   ]
  },
  {
   "cell_type": "code",
   "execution_count": 11,
   "metadata": {},
   "outputs": [],
   "source": [
    "df = make_ws_column(best_senses_dict, df, \"ws_res\")\n",
    "df = make_ws_column(best_defsen_dict, df, \"def_res\")\n",
    "df = make_ws_column(best_exsen_dict, df, \"ex_res\")"
   ]
  },
  {
   "cell_type": "code",
   "execution_count": 12,
   "metadata": {},
   "outputs": [
    {
     "data": {
      "text/html": [
       "<div>\n",
       "<style scoped>\n",
       "    .dataframe tbody tr th:only-of-type {\n",
       "        vertical-align: middle;\n",
       "    }\n",
       "\n",
       "    .dataframe tbody tr th {\n",
       "        vertical-align: top;\n",
       "    }\n",
       "\n",
       "    .dataframe thead th {\n",
       "        text-align: right;\n",
       "    }\n",
       "</style>\n",
       "<table border=\"1\" class=\"dataframe\">\n",
       "  <thead>\n",
       "    <tr style=\"text-align: right;\">\n",
       "      <th></th>\n",
       "      <th>sent_id</th>\n",
       "      <th>tok_id</th>\n",
       "      <th>tok</th>\n",
       "      <th>lemma</th>\n",
       "      <th>pos</th>\n",
       "      <th>ws_num</th>\n",
       "      <th>add_ws</th>\n",
       "      <th>met</th>\n",
       "      <th>vptk_lemma</th>\n",
       "      <th>comment</th>\n",
       "      <th>ws_res</th>\n",
       "      <th>def_res</th>\n",
       "      <th>ex_res</th>\n",
       "    </tr>\n",
       "  </thead>\n",
       "  <tbody>\n",
       "    <tr>\n",
       "      <th>1</th>\n",
       "      <td>1</td>\n",
       "      <td>2</td>\n",
       "      <td>recht</td>\n",
       "      <td>recht</td>\n",
       "      <td>ADV</td>\n",
       "      <td>2</td>\n",
       "      <td>*</td>\n",
       "      <td>false</td>\n",
       "      <td>*</td>\n",
       "      <td>*</td>\n",
       "      <td>3</td>\n",
       "      <td>3</td>\n",
       "      <td>2</td>\n",
       "    </tr>\n",
       "    <tr>\n",
       "      <th>2</th>\n",
       "      <td>1</td>\n",
       "      <td>3</td>\n",
       "      <td>freundlich</td>\n",
       "      <td>freundlich</td>\n",
       "      <td>ADV</td>\n",
       "      <td>1</td>\n",
       "      <td>*</td>\n",
       "      <td>false</td>\n",
       "      <td>*</td>\n",
       "      <td>*</td>\n",
       "      <td>1</td>\n",
       "      <td>2</td>\n",
       "      <td>1</td>\n",
       "    </tr>\n",
       "    <tr>\n",
       "      <th>13</th>\n",
       "      <td>2</td>\n",
       "      <td>10</td>\n",
       "      <td>Gliederung</td>\n",
       "      <td>Gliederung</td>\n",
       "      <td>NOUN</td>\n",
       "      <td>1</td>\n",
       "      <td>*</td>\n",
       "      <td>false</td>\n",
       "      <td>*</td>\n",
       "      <td>*</td>\n",
       "      <td>1</td>\n",
       "      <td>1</td>\n",
       "      <td>1</td>\n",
       "    </tr>\n",
       "    <tr>\n",
       "      <th>20</th>\n",
       "      <td>4</td>\n",
       "      <td>1</td>\n",
       "      <td>Anwendung</td>\n",
       "      <td>Anwendung</td>\n",
       "      <td>NOUN</td>\n",
       "      <td>2</td>\n",
       "      <td>*</td>\n",
       "      <td>false</td>\n",
       "      <td>*</td>\n",
       "      <td>*</td>\n",
       "      <td>1</td>\n",
       "      <td>3</td>\n",
       "      <td>1</td>\n",
       "    </tr>\n",
       "    <tr>\n",
       "      <th>24</th>\n",
       "      <td>5</td>\n",
       "      <td>2</td>\n",
       "      <td>verständlich</td>\n",
       "      <td>verständlich</td>\n",
       "      <td>ADV</td>\n",
       "      <td>1</td>\n",
       "      <td>*</td>\n",
       "      <td>false</td>\n",
       "      <td>*</td>\n",
       "      <td>*</td>\n",
       "      <td>1</td>\n",
       "      <td>2</td>\n",
       "      <td>2</td>\n",
       "    </tr>\n",
       "  </tbody>\n",
       "</table>\n",
       "</div>"
      ],
      "text/plain": [
       "    sent_id tok_id           tok         lemma   pos  ws_num add_ws    met  \\\n",
       "1         1      2         recht         recht   ADV       2      *  false   \n",
       "2         1      3    freundlich    freundlich   ADV       1      *  false   \n",
       "13        2     10    Gliederung    Gliederung  NOUN       1      *  false   \n",
       "20        4      1     Anwendung     Anwendung  NOUN       2      *  false   \n",
       "24        5      2  verständlich  verständlich   ADV       1      *  false   \n",
       "\n",
       "   vptk_lemma comment ws_res def_res ex_res  \n",
       "1           *       *      3       3      2  \n",
       "2           *       *      1       2      1  \n",
       "13          *       *      1       1      1  \n",
       "20          *       *      1       3      1  \n",
       "24          *       *      1       2      2  "
      ]
     },
     "execution_count": 12,
     "metadata": {},
     "output_type": "execute_result"
    }
   ],
   "source": [
    "# new df with additional columns\n",
    "df.head()"
   ]
  },
  {
   "cell_type": "markdown",
   "metadata": {},
   "source": [
    "## Further Analysis"
   ]
  },
  {
   "cell_type": "markdown",
   "metadata": {},
   "source": [
    "### No Content Words\n",
    "Number of words that are not tagged as (proper) nouns, adjectives, adverbs, or verbs."
   ]
  },
  {
   "cell_type": "code",
   "execution_count": 13,
   "metadata": {},
   "outputs": [
    {
     "name": "stdout",
     "output_type": "stream",
     "text": [
      "98\n"
     ]
    },
    {
     "name": "stderr",
     "output_type": "stream",
     "text": [
      "C:\\Users\\matif\\AppData\\Local\\Temp\\ipykernel_16956\\3625298245.py:1: UserWarning: This pattern is interpreted as a regular expression, and has match groups. To actually get the groups, use str.extract.\n",
      "  print(len(df[~df.pos.str.contains(\"(NOUN|PROPN|ADJ|ADV|VERB)\")]))\n"
     ]
    }
   ],
   "source": [
    "print(len(df[~df.pos.str.contains(\"(NOUN|PROPN|ADJ|ADV|VERB)\")]))"
   ]
  },
  {
   "cell_type": "markdown",
   "metadata": {},
   "source": [
    "Show non-content words. Cell 1: First half. Cell 2: Second half."
   ]
  },
  {
   "cell_type": "code",
   "execution_count": 14,
   "metadata": {},
   "outputs": [],
   "source": [
    "#df[~df.pos.str.contains(\"(NOUN|PROPN|ADJ|ADV|VERB)\")].head(49)"
   ]
  },
  {
   "cell_type": "code",
   "execution_count": 15,
   "metadata": {},
   "outputs": [],
   "source": [
    "#df[~df.pos.str.contains(\"(NOUN|PROPN|ADJ|ADV|VERB)\")].tail(49)"
   ]
  },
  {
   "cell_type": "markdown",
   "metadata": {},
   "source": [
    "### Verb Particles\n",
    "Show verbs with separated particles."
   ]
  },
  {
   "cell_type": "code",
   "execution_count": 16,
   "metadata": {},
   "outputs": [
    {
     "data": {
      "text/html": [
       "<div>\n",
       "<style scoped>\n",
       "    .dataframe tbody tr th:only-of-type {\n",
       "        vertical-align: middle;\n",
       "    }\n",
       "\n",
       "    .dataframe tbody tr th {\n",
       "        vertical-align: top;\n",
       "    }\n",
       "\n",
       "    .dataframe thead th {\n",
       "        text-align: right;\n",
       "    }\n",
       "</style>\n",
       "<table border=\"1\" class=\"dataframe\">\n",
       "  <thead>\n",
       "    <tr style=\"text-align: right;\">\n",
       "      <th></th>\n",
       "      <th>sent_id</th>\n",
       "      <th>tok_id</th>\n",
       "      <th>tok</th>\n",
       "      <th>lemma</th>\n",
       "      <th>pos</th>\n",
       "      <th>ws_num</th>\n",
       "      <th>add_ws</th>\n",
       "      <th>met</th>\n",
       "      <th>vptk_lemma</th>\n",
       "      <th>comment</th>\n",
       "      <th>ws_res</th>\n",
       "      <th>def_res</th>\n",
       "      <th>ex_res</th>\n",
       "    </tr>\n",
       "  </thead>\n",
       "  <tbody>\n",
       "    <tr>\n",
       "      <th>1199</th>\n",
       "      <td>84</td>\n",
       "      <td>32</td>\n",
       "      <td>reissen</td>\n",
       "      <td>reissen</td>\n",
       "      <td>VERB</td>\n",
       "      <td>2</td>\n",
       "      <td>*</td>\n",
       "      <td>false</td>\n",
       "      <td>niederreißen</td>\n",
       "      <td>*</td>\n",
       "      <td>*</td>\n",
       "      <td>*</td>\n",
       "      <td>*</td>\n",
       "    </tr>\n",
       "    <tr>\n",
       "      <th>1223</th>\n",
       "      <td>85</td>\n",
       "      <td>2</td>\n",
       "      <td>nehmen</td>\n",
       "      <td>nehmen</td>\n",
       "      <td>VERB</td>\n",
       "      <td>1</td>\n",
       "      <td>*</td>\n",
       "      <td>false</td>\n",
       "      <td>gefangen nehmen</td>\n",
       "      <td>*</td>\n",
       "      <td>2</td>\n",
       "      <td>2</td>\n",
       "      <td>4</td>\n",
       "    </tr>\n",
       "    <tr>\n",
       "      <th>1321</th>\n",
       "      <td>88</td>\n",
       "      <td>8</td>\n",
       "      <td>hält</td>\n",
       "      <td>halten</td>\n",
       "      <td>VERB</td>\n",
       "      <td>2</td>\n",
       "      <td>*</td>\n",
       "      <td>false</td>\n",
       "      <td>vorhalten</td>\n",
       "      <td>*</td>\n",
       "      <td>9</td>\n",
       "      <td>5</td>\n",
       "      <td>9</td>\n",
       "    </tr>\n",
       "    <tr>\n",
       "      <th>1612</th>\n",
       "      <td>107</td>\n",
       "      <td>17</td>\n",
       "      <td>weicht</td>\n",
       "      <td>weichen</td>\n",
       "      <td>VERB</td>\n",
       "      <td>1</td>\n",
       "      <td>*</td>\n",
       "      <td>false</td>\n",
       "      <td>zurückweichen</td>\n",
       "      <td>*</td>\n",
       "      <td>2</td>\n",
       "      <td>2</td>\n",
       "      <td>2</td>\n",
       "    </tr>\n",
       "  </tbody>\n",
       "</table>\n",
       "</div>"
      ],
      "text/plain": [
       "      sent_id tok_id      tok    lemma   pos  ws_num add_ws    met  \\\n",
       "1199       84     32  reissen  reissen  VERB       2      *  false   \n",
       "1223       85      2   nehmen   nehmen  VERB       1      *  false   \n",
       "1321       88      8     hält   halten  VERB       2      *  false   \n",
       "1612      107     17   weicht  weichen  VERB       1      *  false   \n",
       "\n",
       "           vptk_lemma comment ws_res def_res ex_res  \n",
       "1199     niederreißen       *      *       *      *  \n",
       "1223  gefangen nehmen       *      2       2      4  \n",
       "1321        vorhalten       *      9       5      9  \n",
       "1612    zurückweichen       *      2       2      2  "
      ]
     },
     "execution_count": 16,
     "metadata": {},
     "output_type": "execute_result"
    }
   ],
   "source": [
    "df[df.vptk_lemma!=\"*\"]"
   ]
  },
  {
   "cell_type": "markdown",
   "metadata": {},
   "source": [
    "### Gold Standard Dataframe\n",
    "Make new data frama leaving out unwanted words:\n",
    "- non-content words\n",
    "- words with separated particles\n",
    "- duplicate words in a sentence"
   ]
  },
  {
   "cell_type": "code",
   "execution_count": 17,
   "metadata": {},
   "outputs": [
    {
     "name": "stderr",
     "output_type": "stream",
     "text": [
      "c:\\Users\\matif\\BA\\wsd_task\\wsd_eval.py:187: UserWarning: This pattern is interpreted as a regular expression, and has match groups. To actually get the groups, use str.extract.\n",
      "  gs_df = gs_df[gs_df.pos.str.contains(\"(NOUN|PROPN|ADJ|ADV|VERB)\")]\n"
     ]
    }
   ],
   "source": [
    "gs_df = make_gs_df(df)"
   ]
  },
  {
   "cell_type": "code",
   "execution_count": 18,
   "metadata": {},
   "outputs": [
    {
     "data": {
      "text/html": [
       "<div>\n",
       "<style scoped>\n",
       "    .dataframe tbody tr th:only-of-type {\n",
       "        vertical-align: middle;\n",
       "    }\n",
       "\n",
       "    .dataframe tbody tr th {\n",
       "        vertical-align: top;\n",
       "    }\n",
       "\n",
       "    .dataframe thead th {\n",
       "        text-align: right;\n",
       "    }\n",
       "</style>\n",
       "<table border=\"1\" class=\"dataframe\">\n",
       "  <thead>\n",
       "    <tr style=\"text-align: right;\">\n",
       "      <th></th>\n",
       "      <th>sent_id</th>\n",
       "      <th>tok_id</th>\n",
       "      <th>tok</th>\n",
       "      <th>lemma</th>\n",
       "      <th>pos</th>\n",
       "      <th>ws_num</th>\n",
       "      <th>add_ws</th>\n",
       "      <th>met</th>\n",
       "      <th>vptk_lemma</th>\n",
       "      <th>comment</th>\n",
       "      <th>ws_res</th>\n",
       "      <th>def_res</th>\n",
       "      <th>ex_res</th>\n",
       "    </tr>\n",
       "  </thead>\n",
       "  <tbody>\n",
       "    <tr>\n",
       "      <th>1</th>\n",
       "      <td>1</td>\n",
       "      <td>2</td>\n",
       "      <td>recht</td>\n",
       "      <td>recht</td>\n",
       "      <td>ADV</td>\n",
       "      <td>2</td>\n",
       "      <td>*</td>\n",
       "      <td>false</td>\n",
       "      <td>*</td>\n",
       "      <td>*</td>\n",
       "      <td>3</td>\n",
       "      <td>3</td>\n",
       "      <td>2</td>\n",
       "    </tr>\n",
       "    <tr>\n",
       "      <th>2</th>\n",
       "      <td>1</td>\n",
       "      <td>3</td>\n",
       "      <td>freundlich</td>\n",
       "      <td>freundlich</td>\n",
       "      <td>ADV</td>\n",
       "      <td>1</td>\n",
       "      <td>*</td>\n",
       "      <td>false</td>\n",
       "      <td>*</td>\n",
       "      <td>*</td>\n",
       "      <td>1</td>\n",
       "      <td>2</td>\n",
       "      <td>1</td>\n",
       "    </tr>\n",
       "    <tr>\n",
       "      <th>13</th>\n",
       "      <td>2</td>\n",
       "      <td>10</td>\n",
       "      <td>Gliederung</td>\n",
       "      <td>Gliederung</td>\n",
       "      <td>NOUN</td>\n",
       "      <td>1</td>\n",
       "      <td>*</td>\n",
       "      <td>false</td>\n",
       "      <td>*</td>\n",
       "      <td>*</td>\n",
       "      <td>1</td>\n",
       "      <td>1</td>\n",
       "      <td>1</td>\n",
       "    </tr>\n",
       "    <tr>\n",
       "      <th>20</th>\n",
       "      <td>4</td>\n",
       "      <td>1</td>\n",
       "      <td>Anwendung</td>\n",
       "      <td>Anwendung</td>\n",
       "      <td>NOUN</td>\n",
       "      <td>2</td>\n",
       "      <td>*</td>\n",
       "      <td>false</td>\n",
       "      <td>*</td>\n",
       "      <td>*</td>\n",
       "      <td>1</td>\n",
       "      <td>3</td>\n",
       "      <td>1</td>\n",
       "    </tr>\n",
       "    <tr>\n",
       "      <th>24</th>\n",
       "      <td>5</td>\n",
       "      <td>2</td>\n",
       "      <td>verständlich</td>\n",
       "      <td>verständlich</td>\n",
       "      <td>ADV</td>\n",
       "      <td>1</td>\n",
       "      <td>*</td>\n",
       "      <td>false</td>\n",
       "      <td>*</td>\n",
       "      <td>*</td>\n",
       "      <td>1</td>\n",
       "      <td>2</td>\n",
       "      <td>2</td>\n",
       "    </tr>\n",
       "    <tr>\n",
       "      <th>...</th>\n",
       "      <td>...</td>\n",
       "      <td>...</td>\n",
       "      <td>...</td>\n",
       "      <td>...</td>\n",
       "      <td>...</td>\n",
       "      <td>...</td>\n",
       "      <td>...</td>\n",
       "      <td>...</td>\n",
       "      <td>...</td>\n",
       "      <td>...</td>\n",
       "      <td>...</td>\n",
       "      <td>...</td>\n",
       "      <td>...</td>\n",
       "    </tr>\n",
       "    <tr>\n",
       "      <th>1675</th>\n",
       "      <td>111</td>\n",
       "      <td>13</td>\n",
       "      <td>sehen</td>\n",
       "      <td>sehen</td>\n",
       "      <td>VERB</td>\n",
       "      <td>2</td>\n",
       "      <td>*</td>\n",
       "      <td>true</td>\n",
       "      <td>*</td>\n",
       "      <td>*</td>\n",
       "      <td>1</td>\n",
       "      <td>1</td>\n",
       "      <td>1</td>\n",
       "    </tr>\n",
       "    <tr>\n",
       "      <th>1681</th>\n",
       "      <td>111</td>\n",
       "      <td>19</td>\n",
       "      <td>Leben</td>\n",
       "      <td>Leben</td>\n",
       "      <td>NOUN</td>\n",
       "      <td>2</td>\n",
       "      <td>*</td>\n",
       "      <td>false</td>\n",
       "      <td>*</td>\n",
       "      <td>*</td>\n",
       "      <td>2</td>\n",
       "      <td>4</td>\n",
       "      <td>2</td>\n",
       "    </tr>\n",
       "    <tr>\n",
       "      <th>1684</th>\n",
       "      <td>111</td>\n",
       "      <td>22</td>\n",
       "      <td>Verbindung</td>\n",
       "      <td>Verbindung</td>\n",
       "      <td>NOUN</td>\n",
       "      <td>3</td>\n",
       "      <td>*</td>\n",
       "      <td>false</td>\n",
       "      <td>*</td>\n",
       "      <td>*</td>\n",
       "      <td>4</td>\n",
       "      <td>4</td>\n",
       "      <td>6</td>\n",
       "    </tr>\n",
       "    <tr>\n",
       "      <th>1686</th>\n",
       "      <td>111</td>\n",
       "      <td>24</td>\n",
       "      <td>Christus</td>\n",
       "      <td>Christus</td>\n",
       "      <td>PROPN</td>\n",
       "      <td>2</td>\n",
       "      <td>*</td>\n",
       "      <td>false</td>\n",
       "      <td>*</td>\n",
       "      <td>*</td>\n",
       "      <td>2</td>\n",
       "      <td>2</td>\n",
       "      <td>1</td>\n",
       "    </tr>\n",
       "    <tr>\n",
       "      <th>1687</th>\n",
       "      <td>111</td>\n",
       "      <td>25</td>\n",
       "      <td>führt</td>\n",
       "      <td>führen</td>\n",
       "      <td>VERB</td>\n",
       "      <td>1</td>\n",
       "      <td>*</td>\n",
       "      <td>false</td>\n",
       "      <td>*</td>\n",
       "      <td>*</td>\n",
       "      <td>4</td>\n",
       "      <td>1</td>\n",
       "      <td>6</td>\n",
       "    </tr>\n",
       "  </tbody>\n",
       "</table>\n",
       "<p>397 rows × 13 columns</p>\n",
       "</div>"
      ],
      "text/plain": [
       "     sent_id tok_id           tok         lemma    pos ws_num add_ws    met  \\\n",
       "1          1      2         recht         recht    ADV      2      *  false   \n",
       "2          1      3    freundlich    freundlich    ADV      1      *  false   \n",
       "13         2     10    Gliederung    Gliederung   NOUN      1      *  false   \n",
       "20         4      1     Anwendung     Anwendung   NOUN      2      *  false   \n",
       "24         5      2  verständlich  verständlich    ADV      1      *  false   \n",
       "...      ...    ...           ...           ...    ...    ...    ...    ...   \n",
       "1675     111     13         sehen         sehen   VERB      2      *   true   \n",
       "1681     111     19         Leben         Leben   NOUN      2      *  false   \n",
       "1684     111     22    Verbindung    Verbindung   NOUN      3      *  false   \n",
       "1686     111     24      Christus      Christus  PROPN      2      *  false   \n",
       "1687     111     25         führt        führen   VERB      1      *  false   \n",
       "\n",
       "     vptk_lemma comment ws_res def_res ex_res  \n",
       "1             *       *      3       3      2  \n",
       "2             *       *      1       2      1  \n",
       "13            *       *      1       1      1  \n",
       "20            *       *      1       3      1  \n",
       "24            *       *      1       2      2  \n",
       "...         ...     ...    ...     ...    ...  \n",
       "1675          *       *      1       1      1  \n",
       "1681          *       *      2       4      2  \n",
       "1684          *       *      4       4      6  \n",
       "1686          *       *      2       2      1  \n",
       "1687          *       *      4       1      6  \n",
       "\n",
       "[397 rows x 13 columns]"
      ]
     },
     "execution_count": 18,
     "metadata": {},
     "output_type": "execute_result"
    }
   ],
   "source": [
    "gs_df"
   ]
  },
  {
   "cell_type": "markdown",
   "metadata": {},
   "source": [
    "### Words Not Recognized by Algorithm\n",
    "Words that only exist in the gold standard data and were not recognized by the algorithm."
   ]
  },
  {
   "cell_type": "code",
   "execution_count": 19,
   "metadata": {},
   "outputs": [
    {
     "name": "stdout",
     "output_type": "stream",
     "text": [
      "22\n"
     ]
    }
   ],
   "source": [
    "only_gs = gs_df[gs_df.ws_res==\"*\"]\n",
    "print(len(only_gs))"
   ]
  },
  {
   "cell_type": "code",
   "execution_count": 20,
   "metadata": {},
   "outputs": [
    {
     "data": {
      "text/html": [
       "<div>\n",
       "<style scoped>\n",
       "    .dataframe tbody tr th:only-of-type {\n",
       "        vertical-align: middle;\n",
       "    }\n",
       "\n",
       "    .dataframe tbody tr th {\n",
       "        vertical-align: top;\n",
       "    }\n",
       "\n",
       "    .dataframe thead th {\n",
       "        text-align: right;\n",
       "    }\n",
       "</style>\n",
       "<table border=\"1\" class=\"dataframe\">\n",
       "  <thead>\n",
       "    <tr style=\"text-align: right;\">\n",
       "      <th></th>\n",
       "      <th>sent_id</th>\n",
       "      <th>tok_id</th>\n",
       "      <th>tok</th>\n",
       "      <th>lemma</th>\n",
       "      <th>pos</th>\n",
       "      <th>ws_num</th>\n",
       "      <th>add_ws</th>\n",
       "      <th>met</th>\n",
       "      <th>vptk_lemma</th>\n",
       "      <th>comment</th>\n",
       "      <th>ws_res</th>\n",
       "      <th>def_res</th>\n",
       "      <th>ex_res</th>\n",
       "    </tr>\n",
       "  </thead>\n",
       "  <tbody>\n",
       "    <tr>\n",
       "      <th>50</th>\n",
       "      <td>7</td>\n",
       "      <td>2</td>\n",
       "      <td>weiss</td>\n",
       "      <td>weiss</td>\n",
       "      <td>VERB</td>\n",
       "      <td>1</td>\n",
       "      <td>*</td>\n",
       "      <td>false</td>\n",
       "      <td>*</td>\n",
       "      <td>*</td>\n",
       "      <td>*</td>\n",
       "      <td>*</td>\n",
       "      <td>*</td>\n",
       "    </tr>\n",
       "    <tr>\n",
       "      <th>97</th>\n",
       "      <td>9</td>\n",
       "      <td>17</td>\n",
       "      <td>so</td>\n",
       "      <td>so</td>\n",
       "      <td>ADV</td>\n",
       "      <td>2</td>\n",
       "      <td>*</td>\n",
       "      <td>false</td>\n",
       "      <td>*</td>\n",
       "      <td>*</td>\n",
       "      <td>*</td>\n",
       "      <td>*</td>\n",
       "      <td>*</td>\n",
       "    </tr>\n",
       "    <tr>\n",
       "      <th>105</th>\n",
       "      <td>10</td>\n",
       "      <td>6</td>\n",
       "      <td>grosse</td>\n",
       "      <td>groses</td>\n",
       "      <td>ADJ</td>\n",
       "      <td>1</td>\n",
       "      <td>1,4</td>\n",
       "      <td>false</td>\n",
       "      <td>*</td>\n",
       "      <td>*</td>\n",
       "      <td>*</td>\n",
       "      <td>*</td>\n",
       "      <td>*</td>\n",
       "    </tr>\n",
       "    <tr>\n",
       "      <th>111</th>\n",
       "      <td>10</td>\n",
       "      <td>12</td>\n",
       "      <td>Glauben</td>\n",
       "      <td>Glauben</td>\n",
       "      <td>NOUN</td>\n",
       "      <td>1</td>\n",
       "      <td>*</td>\n",
       "      <td>false</td>\n",
       "      <td>*</td>\n",
       "      <td>*</td>\n",
       "      <td>*</td>\n",
       "      <td>*</td>\n",
       "      <td>*</td>\n",
       "    </tr>\n",
       "    <tr>\n",
       "      <th>310</th>\n",
       "      <td>21</td>\n",
       "      <td>1</td>\n",
       "      <td>bemüht</td>\n",
       "      <td>bemühen</td>\n",
       "      <td>VERB</td>\n",
       "      <td>1</td>\n",
       "      <td>*</td>\n",
       "      <td>false</td>\n",
       "      <td>*</td>\n",
       "      <td>*</td>\n",
       "      <td>*</td>\n",
       "      <td>*</td>\n",
       "      <td>*</td>\n",
       "    </tr>\n",
       "    <tr>\n",
       "      <th>352</th>\n",
       "      <td>25</td>\n",
       "      <td>3</td>\n",
       "      <td>freundlich</td>\n",
       "      <td>freundlich</td>\n",
       "      <td>ADV</td>\n",
       "      <td>1</td>\n",
       "      <td>*</td>\n",
       "      <td>false</td>\n",
       "      <td>*</td>\n",
       "      <td>*</td>\n",
       "      <td>*</td>\n",
       "      <td>*</td>\n",
       "      <td>*</td>\n",
       "    </tr>\n",
       "    <tr>\n",
       "      <th>364</th>\n",
       "      <td>26</td>\n",
       "      <td>5</td>\n",
       "      <td>so</td>\n",
       "      <td>so</td>\n",
       "      <td>ADV</td>\n",
       "      <td>2</td>\n",
       "      <td>*</td>\n",
       "      <td>false</td>\n",
       "      <td>*</td>\n",
       "      <td>*</td>\n",
       "      <td>*</td>\n",
       "      <td>*</td>\n",
       "      <td>*</td>\n",
       "    </tr>\n",
       "    <tr>\n",
       "      <th>419</th>\n",
       "      <td>30</td>\n",
       "      <td>14</td>\n",
       "      <td>gross</td>\n",
       "      <td>gross</td>\n",
       "      <td>ADV</td>\n",
       "      <td>1</td>\n",
       "      <td>*</td>\n",
       "      <td>false</td>\n",
       "      <td>*</td>\n",
       "      <td>*</td>\n",
       "      <td>*</td>\n",
       "      <td>*</td>\n",
       "      <td>*</td>\n",
       "    </tr>\n",
       "    <tr>\n",
       "      <th>462</th>\n",
       "      <td>34</td>\n",
       "      <td>14</td>\n",
       "      <td>denkt</td>\n",
       "      <td>denken</td>\n",
       "      <td>VERB</td>\n",
       "      <td>1</td>\n",
       "      <td>*</td>\n",
       "      <td>false</td>\n",
       "      <td>*</td>\n",
       "      <td>*</td>\n",
       "      <td>*</td>\n",
       "      <td>*</td>\n",
       "      <td>*</td>\n",
       "    </tr>\n",
       "    <tr>\n",
       "      <th>618</th>\n",
       "      <td>43</td>\n",
       "      <td>4</td>\n",
       "      <td>bedacht</td>\n",
       "      <td>bedacht</td>\n",
       "      <td>ADV</td>\n",
       "      <td>1</td>\n",
       "      <td>*</td>\n",
       "      <td>false</td>\n",
       "      <td>*</td>\n",
       "      <td>*</td>\n",
       "      <td>*</td>\n",
       "      <td>*</td>\n",
       "      <td>*</td>\n",
       "    </tr>\n",
       "    <tr>\n",
       "      <th>656</th>\n",
       "      <td>46</td>\n",
       "      <td>17</td>\n",
       "      <td>liebt</td>\n",
       "      <td>lieben</td>\n",
       "      <td>VERB</td>\n",
       "      <td>1</td>\n",
       "      <td>*</td>\n",
       "      <td>false</td>\n",
       "      <td>*</td>\n",
       "      <td>*</td>\n",
       "      <td>*</td>\n",
       "      <td>*</td>\n",
       "      <td>*</td>\n",
       "    </tr>\n",
       "    <tr>\n",
       "      <th>780</th>\n",
       "      <td>54</td>\n",
       "      <td>3</td>\n",
       "      <td>freundlich</td>\n",
       "      <td>freundlich</td>\n",
       "      <td>ADV</td>\n",
       "      <td>1</td>\n",
       "      <td>*</td>\n",
       "      <td>false</td>\n",
       "      <td>*</td>\n",
       "      <td>*</td>\n",
       "      <td>*</td>\n",
       "      <td>*</td>\n",
       "      <td>*</td>\n",
       "    </tr>\n",
       "    <tr>\n",
       "      <th>860</th>\n",
       "      <td>59</td>\n",
       "      <td>4</td>\n",
       "      <td>heisst</td>\n",
       "      <td>heisst</td>\n",
       "      <td>VERB</td>\n",
       "      <td>1</td>\n",
       "      <td>*</td>\n",
       "      <td>false</td>\n",
       "      <td>*</td>\n",
       "      <td>*</td>\n",
       "      <td>*</td>\n",
       "      <td>*</td>\n",
       "      <td>*</td>\n",
       "    </tr>\n",
       "    <tr>\n",
       "      <th>885</th>\n",
       "      <td>61</td>\n",
       "      <td>6</td>\n",
       "      <td>beissen</td>\n",
       "      <td>beissen</td>\n",
       "      <td>VERB</td>\n",
       "      <td>1</td>\n",
       "      <td>*</td>\n",
       "      <td>true</td>\n",
       "      <td>*</td>\n",
       "      <td>*</td>\n",
       "      <td>*</td>\n",
       "      <td>*</td>\n",
       "      <td>*</td>\n",
       "    </tr>\n",
       "    <tr>\n",
       "      <th>956</th>\n",
       "      <td>68</td>\n",
       "      <td>7</td>\n",
       "      <td>At</td>\n",
       "      <td>At</td>\n",
       "      <td>PROPN</td>\n",
       "      <td>1</td>\n",
       "      <td>*</td>\n",
       "      <td>false</td>\n",
       "      <td>*</td>\n",
       "      <td>*</td>\n",
       "      <td>*</td>\n",
       "      <td>*</td>\n",
       "      <td>*</td>\n",
       "    </tr>\n",
       "    <tr>\n",
       "      <th>1051</th>\n",
       "      <td>76</td>\n",
       "      <td>6</td>\n",
       "      <td>einlässt</td>\n",
       "      <td>einlässt</td>\n",
       "      <td>VERB</td>\n",
       "      <td>6</td>\n",
       "      <td>*</td>\n",
       "      <td>false</td>\n",
       "      <td>*</td>\n",
       "      <td>*</td>\n",
       "      <td>*</td>\n",
       "      <td>*</td>\n",
       "      <td>*</td>\n",
       "    </tr>\n",
       "    <tr>\n",
       "      <th>1054</th>\n",
       "      <td>76</td>\n",
       "      <td>9</td>\n",
       "      <td>weiss</td>\n",
       "      <td>weeissen</td>\n",
       "      <td>VERB</td>\n",
       "      <td>1</td>\n",
       "      <td>*</td>\n",
       "      <td>false</td>\n",
       "      <td>*</td>\n",
       "      <td>*</td>\n",
       "      <td>*</td>\n",
       "      <td>*</td>\n",
       "      <td>*</td>\n",
       "    </tr>\n",
       "    <tr>\n",
       "      <th>1289</th>\n",
       "      <td>87</td>\n",
       "      <td>19</td>\n",
       "      <td>weiss</td>\n",
       "      <td>weiessn</td>\n",
       "      <td>VERB</td>\n",
       "      <td>1</td>\n",
       "      <td>*</td>\n",
       "      <td>false</td>\n",
       "      <td>*</td>\n",
       "      <td>*</td>\n",
       "      <td>*</td>\n",
       "      <td>*</td>\n",
       "      <td>*</td>\n",
       "    </tr>\n",
       "    <tr>\n",
       "      <th>1348</th>\n",
       "      <td>91</td>\n",
       "      <td>2.1</td>\n",
       "      <td>dar</td>\n",
       "      <td>dar</td>\n",
       "      <td>ADV</td>\n",
       "      <td>1</td>\n",
       "      <td>*</td>\n",
       "      <td>false</td>\n",
       "      <td>*</td>\n",
       "      <td>*</td>\n",
       "      <td>*</td>\n",
       "      <td>*</td>\n",
       "      <td>*</td>\n",
       "    </tr>\n",
       "    <tr>\n",
       "      <th>1433</th>\n",
       "      <td>95</td>\n",
       "      <td>16</td>\n",
       "      <td>Anstoss</td>\n",
       "      <td>Anstoss</td>\n",
       "      <td>NOUN</td>\n",
       "      <td>3</td>\n",
       "      <td>*</td>\n",
       "      <td>false</td>\n",
       "      <td>*</td>\n",
       "      <td>*</td>\n",
       "      <td>*</td>\n",
       "      <td>*</td>\n",
       "      <td>*</td>\n",
       "    </tr>\n",
       "    <tr>\n",
       "      <th>1463</th>\n",
       "      <td>98</td>\n",
       "      <td>2</td>\n",
       "      <td>wüsste</td>\n",
       "      <td>wüsste</td>\n",
       "      <td>VERB</td>\n",
       "      <td>1</td>\n",
       "      <td>*</td>\n",
       "      <td>false</td>\n",
       "      <td>*</td>\n",
       "      <td>*</td>\n",
       "      <td>*</td>\n",
       "      <td>*</td>\n",
       "      <td>*</td>\n",
       "    </tr>\n",
       "    <tr>\n",
       "      <th>1642</th>\n",
       "      <td>110</td>\n",
       "      <td>4</td>\n",
       "      <td>antwortet</td>\n",
       "      <td>antworten</td>\n",
       "      <td>VERB</td>\n",
       "      <td>2</td>\n",
       "      <td>*</td>\n",
       "      <td>false</td>\n",
       "      <td>*</td>\n",
       "      <td>*</td>\n",
       "      <td>*</td>\n",
       "      <td>*</td>\n",
       "      <td>*</td>\n",
       "    </tr>\n",
       "  </tbody>\n",
       "</table>\n",
       "</div>"
      ],
      "text/plain": [
       "     sent_id tok_id         tok       lemma    pos ws_num add_ws    met  \\\n",
       "50         7      2       weiss       weiss   VERB      1      *  false   \n",
       "97         9     17          so          so    ADV      2      *  false   \n",
       "105       10      6      grosse      groses    ADJ      1    1,4  false   \n",
       "111       10     12     Glauben     Glauben   NOUN      1      *  false   \n",
       "310       21      1      bemüht     bemühen   VERB      1      *  false   \n",
       "352       25      3  freundlich  freundlich    ADV      1      *  false   \n",
       "364       26      5          so          so    ADV      2      *  false   \n",
       "419       30     14       gross       gross    ADV      1      *  false   \n",
       "462       34     14       denkt      denken   VERB      1      *  false   \n",
       "618       43      4     bedacht     bedacht    ADV      1      *  false   \n",
       "656       46     17       liebt      lieben   VERB      1      *  false   \n",
       "780       54      3  freundlich  freundlich    ADV      1      *  false   \n",
       "860       59      4      heisst      heisst   VERB      1      *  false   \n",
       "885       61      6     beissen     beissen   VERB      1      *   true   \n",
       "956       68      7          At          At  PROPN      1      *  false   \n",
       "1051      76      6    einlässt    einlässt   VERB      6      *  false   \n",
       "1054      76      9       weiss    weeissen   VERB      1      *  false   \n",
       "1289      87     19       weiss     weiessn   VERB      1      *  false   \n",
       "1348      91    2.1         dar         dar    ADV      1      *  false   \n",
       "1433      95     16     Anstoss     Anstoss   NOUN      3      *  false   \n",
       "1463      98      2      wüsste      wüsste   VERB      1      *  false   \n",
       "1642     110      4   antwortet   antworten   VERB      2      *  false   \n",
       "\n",
       "     vptk_lemma comment ws_res def_res ex_res  \n",
       "50            *       *      *       *      *  \n",
       "97            *       *      *       *      *  \n",
       "105           *       *      *       *      *  \n",
       "111           *       *      *       *      *  \n",
       "310           *       *      *       *      *  \n",
       "352           *       *      *       *      *  \n",
       "364           *       *      *       *      *  \n",
       "419           *       *      *       *      *  \n",
       "462           *       *      *       *      *  \n",
       "618           *       *      *       *      *  \n",
       "656           *       *      *       *      *  \n",
       "780           *       *      *       *      *  \n",
       "860           *       *      *       *      *  \n",
       "885           *       *      *       *      *  \n",
       "956           *       *      *       *      *  \n",
       "1051          *       *      *       *      *  \n",
       "1054          *       *      *       *      *  \n",
       "1289          *       *      *       *      *  \n",
       "1348          *       *      *       *      *  \n",
       "1433          *       *      *       *      *  \n",
       "1463          *       *      *       *      *  \n",
       "1642          *       *      *       *      *  "
      ]
     },
     "execution_count": 20,
     "metadata": {},
     "output_type": "execute_result"
    }
   ],
   "source": [
    "only_gs"
   ]
  },
  {
   "cell_type": "markdown",
   "metadata": {},
   "source": [
    "### Metaphors\n",
    "Words in the gold standard data tagged as metaphors by the annotator."
   ]
  },
  {
   "cell_type": "code",
   "execution_count": 21,
   "metadata": {},
   "outputs": [
    {
     "name": "stdout",
     "output_type": "stream",
     "text": [
      "Metaphors: 25\n",
      "Words in GS data: 397\n",
      "Metaphor ratio: 0.06297229219143577\n"
     ]
    }
   ],
   "source": [
    "df_met = gs_df[gs_df.met==\"true\"]\n",
    "print(\"Metaphors:\", len(df_met))\n",
    "print(\"Words in GS data:\", len(gs_df))\n",
    "print(\"Metaphor ratio:\", len(df_met)/len(gs_df))"
   ]
  },
  {
   "cell_type": "markdown",
   "metadata": {},
   "source": [
    "Performance of MFS baseline for metaphors."
   ]
  },
  {
   "cell_type": "code",
   "execution_count": 22,
   "metadata": {},
   "outputs": [
    {
     "name": "stdout",
     "output_type": "stream",
     "text": [
      "MFS accuracy: 0.36\n",
      "MFS accuracy (+good): 0.4\n"
     ]
    }
   ],
   "source": [
    "mfs_same = len(df_met[df_met.ws_num==1])/len(df_met)\n",
    "mfs_same_good = (len(df_met[df_met.ws_num==1])+1)/len(df_met)\n",
    "print(\"MFS accuracy:\", mfs_same)\n",
    "print(\"MFS accuracy (+good):\", mfs_same_good)"
   ]
  },
  {
   "cell_type": "markdown",
   "metadata": {},
   "source": [
    "Remove words not recognized by the WSD algorithm from the metaphor data frame."
   ]
  },
  {
   "cell_type": "code",
   "execution_count": 23,
   "metadata": {},
   "outputs": [
    {
     "name": "stdout",
     "output_type": "stream",
     "text": [
      "Metaphors recognized by algorithm: 24\n"
     ]
    }
   ],
   "source": [
    "df_met = df_met[df_met.ws_res!=\"*\"]\n",
    "metaphors = len(df_met)\n",
    "print(\"Metaphors recognized by algorithm:\", metaphors)"
   ]
  },
  {
   "cell_type": "markdown",
   "metadata": {},
   "source": [
    "Compute performance of the WS, DEF, and EX methods on metaphors."
   ]
  },
  {
   "cell_type": "code",
   "execution_count": 24,
   "metadata": {},
   "outputs": [
    {
     "name": "stdout",
     "output_type": "stream",
     "text": [
      "WS accuracy: 0.16666666666666666\n",
      "WS accuracy (+good): 0.20833333333333334\n",
      "DEF accuracy: 0.125\n",
      "EX accuracy: 0.375\n",
      "EX accuracy (+good): 0.4166666666666667\n"
     ]
    }
   ],
   "source": [
    "ws_same = len(df_met[df_met.ws_res==df_met.ws_num])/metaphors\n",
    "ws_same_good = (len(df_met[df_met.ws_res==df_met.ws_num])+1)/metaphors\n",
    "def_same = len(df_met[df_met.def_res==df_met.ws_num])/metaphors\n",
    "ex_same = len(df_met[df_met.ex_res==df_met.ws_num])/metaphors\n",
    "ex_same_good = (len(df_met[df_met.ex_res==df_met.ws_num])+1)/metaphors\n",
    "\n",
    "print(\"WS accuracy:\", ws_same)\n",
    "print(\"WS accuracy (+good):\", ws_same_good)\n",
    "print(\"DEF accuracy:\", def_same)\n",
    "print(\"EX accuracy:\", ex_same)\n",
    "print(\"EX accuracy (+good):\", ex_same_good)"
   ]
  },
  {
   "cell_type": "markdown",
   "metadata": {},
   "source": [
    "### Accuracy of Words with Word Sense != 1"
   ]
  },
  {
   "cell_type": "markdown",
   "metadata": {},
   "source": [
    "Statistics about the ratios of the different word senses."
   ]
  },
  {
   "cell_type": "code",
   "execution_count": 25,
   "metadata": {},
   "outputs": [
    {
     "name": "stdout",
     "output_type": "stream",
     "text": [
      "{0, 1, 2, 3, 4, 5, 6, 7, 8, 10, 12}\n",
      "12\n"
     ]
    }
   ],
   "source": [
    "ws_nums = set(gs_df.ws_num)\n",
    "print(ws_nums)\n",
    "max_ws = max(ws_nums)\n",
    "print(max_ws)"
   ]
  },
  {
   "cell_type": "code",
   "execution_count": 26,
   "metadata": {},
   "outputs": [],
   "source": [
    "wsn_ratios = list()\n",
    "for ws_num in ws_nums:\n",
    "    words = len(gs_df[gs_df.ws_num==ws_num])\n",
    "    wsn_ratios.append([ws_num, words, round(words/len(gs_df), 6)])"
   ]
  },
  {
   "cell_type": "code",
   "execution_count": 27,
   "metadata": {},
   "outputs": [
    {
     "data": {
      "text/plain": [
       "[[0, 2, 0.005038],\n",
       " [1, 243, 0.612091],\n",
       " [2, 105, 0.264484],\n",
       " [3, 26, 0.065491],\n",
       " [4, 10, 0.025189],\n",
       " [5, 3, 0.007557],\n",
       " [6, 4, 0.010076],\n",
       " [7, 1, 0.002519],\n",
       " [8, 1, 0.002519],\n",
       " [10, 1, 0.002519],\n",
       " [12, 1, 0.002519]]"
      ]
     },
     "execution_count": 27,
     "metadata": {},
     "output_type": "execute_result"
    }
   ],
   "source": [
    "wsn_ratios"
   ]
  },
  {
   "cell_type": "code",
   "execution_count": 28,
   "metadata": {},
   "outputs": [
    {
     "data": {
      "text/plain": [
       "[[0, 2, 0.005038],\n",
       " [1, 243, 0.612091],\n",
       " [2, 105, 0.264484],\n",
       " [3, 26, 0.065491],\n",
       " [4, 10, 0.025189],\n",
       " ['5+', 11, 0.027709]]"
      ]
     },
     "execution_count": 28,
     "metadata": {},
     "output_type": "execute_result"
    }
   ],
   "source": [
    "# for making pie chart\n",
    "words = 0\n",
    "ratio = 0\n",
    "for element in wsn_ratios:\n",
    "    if element[0] > 4:\n",
    "        words += element[1]\n",
    "        ratio += element[2]\n",
    "new_list = [\"5+\", words, ratio]\n",
    "wsn_ratios_new = wsn_ratios[:5]\n",
    "wsn_ratios_new.append(new_list)\n",
    "wsn_ratios_new"
   ]
  },
  {
   "cell_type": "code",
   "execution_count": 29,
   "metadata": {},
   "outputs": [
    {
     "data": {
      "text/plain": [
       "<AxesSubplot:ylabel='ratio'>"
      ]
     },
     "execution_count": 29,
     "metadata": {},
     "output_type": "execute_result"
    },
    {
     "data": {
      "image/png": "[encoded data removed]",
      "text/plain": [
       "<Figure size 432x288 with 1 Axes>"
      ]
     },
     "metadata": {},
     "output_type": "display_data"
    }
   ],
   "source": [
    "wsn_df = pd.DataFrame(wsn_ratios_new, columns=[\"ws_no\", \"words_total\", \"ratio\"], index=[0, 1, 2, 3, 4, \"5+\"])\n",
    "wsn_df.plot.pie(y=\"ratio\")"
   ]
  },
  {
   "cell_type": "markdown",
   "metadata": {},
   "source": [
    "Analysis of the performance of the three embedding methods (WS, DEF and EX) and the MFS baseline for words with word sense != 1."
   ]
  },
  {
   "cell_type": "code",
   "execution_count": 30,
   "metadata": {},
   "outputs": [],
   "source": [
    "highws_df = gs_df[gs_df.ws_num!=1]"
   ]
  },
  {
   "cell_type": "code",
   "execution_count": 31,
   "metadata": {},
   "outputs": [
    {
     "name": "stderr",
     "output_type": "stream",
     "text": [
      "c:\\Users\\matif\\BA\\wsd_task\\wsd_eval.py:57: UserWarning: This pattern is interpreted as a regular expression, and has match groups. To actually get the groups, use str.extract.\n",
      "  df = df[df.pos.str.contains(\"(NOUN|PROPN|ADJ|ADV|VERB)\")]\n"
     ]
    }
   ],
   "source": [
    "hws_gsdict, hws_mores = make_gold_standard_dicts(highws_df)\n",
    "\n",
    "same, diff, good, total = evaluate(hws_gsdict, hws_mores, best_senses_dict)\n",
    "same_def, diff_def, good_def, total_def = evaluate(hws_gsdict, hws_mores, best_defsen_dict)\n",
    "same_ex, diff_ex, good_ex, total_ex = evaluate(hws_gsdict, hws_mores, best_exsen_dict)\n",
    "same_mfs, diff_mfs, good_mfs, total_mfs = mfs_evaluate(hws_gsdict, hws_mores)"
   ]
  },
  {
   "cell_type": "code",
   "execution_count": 32,
   "metadata": {},
   "outputs": [],
   "source": [
    "columns = [\"type\", \"same\", \"diff\", \"good\", \"total\", \"accuracy\", \"accuracy (+good)\"]\n",
    "h_res = [[\"WS\", same, diff, good, total, same/total, (same+good)/total],\n",
    "        [\"DEF\", same_def, diff_def, good_def, total_def, same_def/total_def, (same_def+good_def)/total_def],\n",
    "        [\"EX\", same_ex, diff_ex, good_ex, total_ex , same_ex/total_ex, (same_ex+good_ex)/total_ex]]\n",
    "index = [\"WS\", \"DEF\", \"EX\"]\n",
    "hres_df = pd.DataFrame(h_res, columns=columns, index=index)"
   ]
  },
  {
   "cell_type": "code",
   "execution_count": 33,
   "metadata": {},
   "outputs": [
    {
     "data": {
      "text/html": [
       "<div>\n",
       "<style scoped>\n",
       "    .dataframe tbody tr th:only-of-type {\n",
       "        vertical-align: middle;\n",
       "    }\n",
       "\n",
       "    .dataframe tbody tr th {\n",
       "        vertical-align: top;\n",
       "    }\n",
       "\n",
       "    .dataframe thead th {\n",
       "        text-align: right;\n",
       "    }\n",
       "</style>\n",
       "<table border=\"1\" class=\"dataframe\">\n",
       "  <thead>\n",
       "    <tr style=\"text-align: right;\">\n",
       "      <th></th>\n",
       "      <th>type</th>\n",
       "      <th>same</th>\n",
       "      <th>diff</th>\n",
       "      <th>good</th>\n",
       "      <th>total</th>\n",
       "      <th>accuracy</th>\n",
       "      <th>accuracy (+good)</th>\n",
       "    </tr>\n",
       "  </thead>\n",
       "  <tbody>\n",
       "    <tr>\n",
       "      <th>WS</th>\n",
       "      <td>WS</td>\n",
       "      <td>50</td>\n",
       "      <td>93</td>\n",
       "      <td>6</td>\n",
       "      <td>149</td>\n",
       "      <td>0.335570</td>\n",
       "      <td>0.375839</td>\n",
       "    </tr>\n",
       "    <tr>\n",
       "      <th>DEF</th>\n",
       "      <td>DEF</td>\n",
       "      <td>27</td>\n",
       "      <td>121</td>\n",
       "      <td>1</td>\n",
       "      <td>149</td>\n",
       "      <td>0.181208</td>\n",
       "      <td>0.187919</td>\n",
       "    </tr>\n",
       "    <tr>\n",
       "      <th>EX</th>\n",
       "      <td>EX</td>\n",
       "      <td>65</td>\n",
       "      <td>78</td>\n",
       "      <td>6</td>\n",
       "      <td>149</td>\n",
       "      <td>0.436242</td>\n",
       "      <td>0.476510</td>\n",
       "    </tr>\n",
       "  </tbody>\n",
       "</table>\n",
       "</div>"
      ],
      "text/plain": [
       "    type  same  diff  good  total  accuracy  accuracy (+good)\n",
       "WS    WS    50    93     6    149  0.335570          0.375839\n",
       "DEF  DEF    27   121     1    149  0.181208          0.187919\n",
       "EX    EX    65    78     6    149  0.436242          0.476510"
      ]
     },
     "execution_count": 33,
     "metadata": {},
     "output_type": "execute_result"
    }
   ],
   "source": [
    "hres_df"
   ]
  },
  {
   "cell_type": "code",
   "execution_count": 34,
   "metadata": {},
   "outputs": [
    {
     "data": {
      "text/plain": [
       "<AxesSubplot:>"
      ]
     },
     "execution_count": 34,
     "metadata": {},
     "output_type": "execute_result"
    },
    {
     "data": {
      "image/png": "[encoded data removed]",
      "text/plain": [
       "<Figure size 432x288 with 1 Axes>"
      ]
     },
     "metadata": {
      "needs_background": "light"
     },
     "output_type": "display_data"
    }
   ],
   "source": [
    "hres_df[[\"accuracy\", \"accuracy (+good)\"]].plot.bar(rot=0)"
   ]
  },
  {
   "cell_type": "markdown",
   "metadata": {},
   "source": [
    "## Evaluation Text Information\n",
    "\n",
    "No. of tokens & No. of token types"
   ]
  },
  {
   "cell_type": "code",
   "execution_count": 35,
   "metadata": {},
   "outputs": [
    {
     "name": "stdout",
     "output_type": "stream",
     "text": [
      "Tokens 1683\n",
      "Types 656\n"
     ]
    }
   ],
   "source": [
    "text_path = \"../data/2_JuergBirnstiel_Kolosser_4_5_6_20010819.txt\"\n",
    "tokens = 0\n",
    "tok_set = set()\n",
    "with open(text_path) as file:\n",
    "    for line in file:\n",
    "        for token in line.split():\n",
    "            tokens += 1\n",
    "            tok_set.add(token)\n",
    "print(\"Tokens\", tokens)\n",
    "print(\"Types\", len(tok_set))"
   ]
  },
  {
   "cell_type": "code",
   "execution_count": null,
   "metadata": {},
   "outputs": [],
   "source": []
  }
 ],
 "metadata": {
  "kernelspec": {
   "display_name": "Python 3.10.4 ('BA_thesis')",
   "language": "python",
   "name": "python3"
  },
  "language_info": {
   "codemirror_mode": {
    "name": "ipython",
    "version": 3
   },
   "file_extension": ".py",
   "mimetype": "text/x-python",
   "name": "python",
   "nbconvert_exporter": "python",
   "pygments_lexer": "ipython3",
   "version": "3.10.4"
  },
  "orig_nbformat": 4,
  "vscode": {
   "interpreter": {
    "hash": "ca2051eb1e7d9e3ce556b63136d3660ebec8824aa525f8e0aa26432960871da7"
   }
  }
 },
 "nbformat": 4,
 "nbformat_minor": 2
}
